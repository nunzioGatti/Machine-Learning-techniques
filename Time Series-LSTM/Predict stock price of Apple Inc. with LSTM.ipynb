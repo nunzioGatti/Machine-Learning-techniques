{
 "cells": [
  {
   "cell_type": "code",
   "execution_count": 1,
   "metadata": {},
   "outputs": [
    {
     "name": "stderr",
     "output_type": "stream",
     "text": [
      "Using TensorFlow backend.\n"
     ]
    }
   ],
   "source": [
    "import pandas as pd\n",
    "import numpy as np\n",
    "\n",
    "%matplotlib inline\n",
    "import matplotlib.pyplot as plt\n",
    "\n",
    "from sklearn.preprocessing import MinMaxScaler\n",
    "from sklearn.model_selection import train_test_split\n",
    "from sklearn.metrics import mean_squared_error\n",
    "from sklearn.metrics import r2_score\n",
    "\n",
    "\n",
    "from keras.models import Sequential\n",
    "from keras.layers.core import Dense, Activation, Dropout\n",
    "from keras.layers.recurrent import LSTM\n",
    "from keras.callbacks import EarlyStopping\n",
    "\n",
    "import math\n"
   ]
  },
  {
   "cell_type": "code",
   "execution_count": 2,
   "metadata": {},
   "outputs": [],
   "source": [
    "prices_df = pd.read_csv(\"prices-split-adjusted.csv\")"
   ]
  },
  {
   "cell_type": "code",
   "execution_count": 3,
   "metadata": {},
   "outputs": [
    {
     "data": {
      "text/html": [
       "<div>\n",
       "<style scoped>\n",
       "    .dataframe tbody tr th:only-of-type {\n",
       "        vertical-align: middle;\n",
       "    }\n",
       "\n",
       "    .dataframe tbody tr th {\n",
       "        vertical-align: top;\n",
       "    }\n",
       "\n",
       "    .dataframe thead th {\n",
       "        text-align: right;\n",
       "    }\n",
       "</style>\n",
       "<table border=\"1\" class=\"dataframe\">\n",
       "  <thead>\n",
       "    <tr style=\"text-align: right;\">\n",
       "      <th></th>\n",
       "      <th>date</th>\n",
       "      <th>symbol</th>\n",
       "      <th>open</th>\n",
       "      <th>close</th>\n",
       "      <th>low</th>\n",
       "      <th>high</th>\n",
       "      <th>volume</th>\n",
       "    </tr>\n",
       "  </thead>\n",
       "  <tbody>\n",
       "    <tr>\n",
       "      <th>0</th>\n",
       "      <td>2016-01-05</td>\n",
       "      <td>WLTW</td>\n",
       "      <td>123.430000</td>\n",
       "      <td>125.839996</td>\n",
       "      <td>122.309998</td>\n",
       "      <td>126.250000</td>\n",
       "      <td>2163600.0</td>\n",
       "    </tr>\n",
       "    <tr>\n",
       "      <th>1</th>\n",
       "      <td>2016-01-06</td>\n",
       "      <td>WLTW</td>\n",
       "      <td>125.239998</td>\n",
       "      <td>119.980003</td>\n",
       "      <td>119.940002</td>\n",
       "      <td>125.540001</td>\n",
       "      <td>2386400.0</td>\n",
       "    </tr>\n",
       "    <tr>\n",
       "      <th>2</th>\n",
       "      <td>2016-01-07</td>\n",
       "      <td>WLTW</td>\n",
       "      <td>116.379997</td>\n",
       "      <td>114.949997</td>\n",
       "      <td>114.930000</td>\n",
       "      <td>119.739998</td>\n",
       "      <td>2489500.0</td>\n",
       "    </tr>\n",
       "    <tr>\n",
       "      <th>3</th>\n",
       "      <td>2016-01-08</td>\n",
       "      <td>WLTW</td>\n",
       "      <td>115.480003</td>\n",
       "      <td>116.620003</td>\n",
       "      <td>113.500000</td>\n",
       "      <td>117.440002</td>\n",
       "      <td>2006300.0</td>\n",
       "    </tr>\n",
       "    <tr>\n",
       "      <th>4</th>\n",
       "      <td>2016-01-11</td>\n",
       "      <td>WLTW</td>\n",
       "      <td>117.010002</td>\n",
       "      <td>114.970001</td>\n",
       "      <td>114.089996</td>\n",
       "      <td>117.330002</td>\n",
       "      <td>1408600.0</td>\n",
       "    </tr>\n",
       "  </tbody>\n",
       "</table>\n",
       "</div>"
      ],
      "text/plain": [
       "         date symbol        open       close         low        high  \\\n",
       "0  2016-01-05   WLTW  123.430000  125.839996  122.309998  126.250000   \n",
       "1  2016-01-06   WLTW  125.239998  119.980003  119.940002  125.540001   \n",
       "2  2016-01-07   WLTW  116.379997  114.949997  114.930000  119.739998   \n",
       "3  2016-01-08   WLTW  115.480003  116.620003  113.500000  117.440002   \n",
       "4  2016-01-11   WLTW  117.010002  114.970001  114.089996  117.330002   \n",
       "\n",
       "      volume  \n",
       "0  2163600.0  \n",
       "1  2386400.0  \n",
       "2  2489500.0  \n",
       "3  2006300.0  \n",
       "4  1408600.0  "
      ]
     },
     "execution_count": 3,
     "metadata": {},
     "output_type": "execute_result"
    }
   ],
   "source": [
    "prices_df.head()"
   ]
  },
  {
   "cell_type": "code",
   "execution_count": 7,
   "metadata": {},
   "outputs": [
    {
     "data": {
      "text/plain": [
       "MCD      1762\n",
       "BWA      1762\n",
       "MKC      1762\n",
       "WMB      1762\n",
       "PWR      1762\n",
       "TXN      1762\n",
       "HPQ      1762\n",
       "CMI      1762\n",
       "BBY      1762\n",
       "PGR      1762\n",
       "AMAT     1762\n",
       "WHR      1762\n",
       "SLB      1762\n",
       "TWX      1762\n",
       "CELG     1762\n",
       "AMZN     1762\n",
       "LEN      1762\n",
       "K        1762\n",
       "HCN      1762\n",
       "ORLY     1762\n",
       "BBT      1762\n",
       "DFS      1762\n",
       "INTC     1762\n",
       "MU       1762\n",
       "DISCA    1762\n",
       "NRG      1762\n",
       "NDAQ     1762\n",
       "HES      1762\n",
       "HOLX     1762\n",
       "INTU     1762\n",
       "         ... \n",
       "MPC      1008\n",
       "TRIP     1008\n",
       "ABBV     1008\n",
       "KORS     1008\n",
       "FBHS     1008\n",
       "DLPH     1008\n",
       "TDG      1008\n",
       "KMI      1008\n",
       "NLSN     1008\n",
       "PSX      1008\n",
       "FB       1008\n",
       "HCA      1008\n",
       "ZTS       987\n",
       "COTY      896\n",
       "MNK       894\n",
       "NWS       892\n",
       "NWSA      892\n",
       "EVHC      853\n",
       "ALLE      786\n",
       "CFG       504\n",
       "QRVO      504\n",
       "SYF       504\n",
       "NAVI      504\n",
       "WRK       385\n",
       "KHC       378\n",
       "PYPL      378\n",
       "HPE       304\n",
       "CSRA      284\n",
       "WLTW      251\n",
       "FTV       126\n",
       "Name: symbol, Length: 501, dtype: int64"
      ]
     },
     "execution_count": 7,
     "metadata": {},
     "output_type": "execute_result"
    }
   ],
   "source": [
    "prices_df['symbol'].value_counts()"
   ]
  },
  {
   "cell_type": "code",
   "execution_count": 10,
   "metadata": {},
   "outputs": [],
   "source": [
    "# filter out only data of Apple\n",
    "apple = prices_df[prices_df['symbol']=='AAPL']"
   ]
  },
  {
   "cell_type": "code",
   "execution_count": 11,
   "metadata": {},
   "outputs": [
    {
     "data": {
      "text/html": [
       "<div>\n",
       "<style scoped>\n",
       "    .dataframe tbody tr th:only-of-type {\n",
       "        vertical-align: middle;\n",
       "    }\n",
       "\n",
       "    .dataframe tbody tr th {\n",
       "        vertical-align: top;\n",
       "    }\n",
       "\n",
       "    .dataframe thead th {\n",
       "        text-align: right;\n",
       "    }\n",
       "</style>\n",
       "<table border=\"1\" class=\"dataframe\">\n",
       "  <thead>\n",
       "    <tr style=\"text-align: right;\">\n",
       "      <th></th>\n",
       "      <th>date</th>\n",
       "      <th>symbol</th>\n",
       "      <th>open</th>\n",
       "      <th>close</th>\n",
       "      <th>low</th>\n",
       "      <th>high</th>\n",
       "      <th>volume</th>\n",
       "    </tr>\n",
       "  </thead>\n",
       "  <tbody>\n",
       "    <tr>\n",
       "      <th>254</th>\n",
       "      <td>2010-01-04</td>\n",
       "      <td>AAPL</td>\n",
       "      <td>30.490000</td>\n",
       "      <td>30.572857</td>\n",
       "      <td>30.340000</td>\n",
       "      <td>30.642857</td>\n",
       "      <td>123432400.0</td>\n",
       "    </tr>\n",
       "    <tr>\n",
       "      <th>721</th>\n",
       "      <td>2010-01-05</td>\n",
       "      <td>AAPL</td>\n",
       "      <td>30.657143</td>\n",
       "      <td>30.625713</td>\n",
       "      <td>30.464285</td>\n",
       "      <td>30.798571</td>\n",
       "      <td>150476200.0</td>\n",
       "    </tr>\n",
       "    <tr>\n",
       "      <th>1189</th>\n",
       "      <td>2010-01-06</td>\n",
       "      <td>AAPL</td>\n",
       "      <td>30.625713</td>\n",
       "      <td>30.138571</td>\n",
       "      <td>30.107143</td>\n",
       "      <td>30.747143</td>\n",
       "      <td>138040000.0</td>\n",
       "    </tr>\n",
       "    <tr>\n",
       "      <th>1657</th>\n",
       "      <td>2010-01-07</td>\n",
       "      <td>AAPL</td>\n",
       "      <td>30.250000</td>\n",
       "      <td>30.082857</td>\n",
       "      <td>29.864286</td>\n",
       "      <td>30.285715</td>\n",
       "      <td>119282800.0</td>\n",
       "    </tr>\n",
       "    <tr>\n",
       "      <th>2125</th>\n",
       "      <td>2010-01-08</td>\n",
       "      <td>AAPL</td>\n",
       "      <td>30.042856</td>\n",
       "      <td>30.282858</td>\n",
       "      <td>29.865715</td>\n",
       "      <td>30.285715</td>\n",
       "      <td>111902700.0</td>\n",
       "    </tr>\n",
       "  </tbody>\n",
       "</table>\n",
       "</div>"
      ],
      "text/plain": [
       "            date symbol       open      close        low       high  \\\n",
       "254   2010-01-04   AAPL  30.490000  30.572857  30.340000  30.642857   \n",
       "721   2010-01-05   AAPL  30.657143  30.625713  30.464285  30.798571   \n",
       "1189  2010-01-06   AAPL  30.625713  30.138571  30.107143  30.747143   \n",
       "1657  2010-01-07   AAPL  30.250000  30.082857  29.864286  30.285715   \n",
       "2125  2010-01-08   AAPL  30.042856  30.282858  29.865715  30.285715   \n",
       "\n",
       "           volume  \n",
       "254   123432400.0  \n",
       "721   150476200.0  \n",
       "1189  138040000.0  \n",
       "1657  119282800.0  \n",
       "2125  111902700.0  "
      ]
     },
     "execution_count": 11,
     "metadata": {},
     "output_type": "execute_result"
    }
   ],
   "source": [
    "apple.head()"
   ]
  },
  {
   "cell_type": "code",
   "execution_count": 18,
   "metadata": {},
   "outputs": [],
   "source": [
    "# save Apple's stock values as type of floating point number\n",
    "apple_prices = apple['close'].values.astype('float32')"
   ]
  },
  {
   "cell_type": "code",
   "execution_count": 22,
   "metadata": {},
   "outputs": [
    {
     "data": {
      "text/plain": [
       "(1762,)"
      ]
     },
     "execution_count": 22,
     "metadata": {},
     "output_type": "execute_result"
    }
   ],
   "source": [
    "apple_prices.shape"
   ]
  },
  {
   "cell_type": "code",
   "execution_count": 24,
   "metadata": {},
   "outputs": [],
   "source": [
    "# reshape to column vector\n",
    "apple_prices = apple_prices.reshape(len(apple_prices),1)"
   ]
  },
  {
   "cell_type": "code",
   "execution_count": 25,
   "metadata": {},
   "outputs": [
    {
     "data": {
      "text/plain": [
       "(1762, 1)"
      ]
     },
     "execution_count": 25,
     "metadata": {},
     "output_type": "execute_result"
    }
   ],
   "source": [
    "apple_prices.shape"
   ]
  },
  {
   "cell_type": "code",
   "execution_count": 26,
   "metadata": {},
   "outputs": [
    {
     "data": {
      "text/plain": [
       "array([[ 30.572857],\n",
       "       [ 30.625713],\n",
       "       [ 30.13857 ],\n",
       "       ...,\n",
       "       [116.76    ],\n",
       "       [116.73    ],\n",
       "       [115.82    ]], dtype=float32)"
      ]
     },
     "execution_count": 26,
     "metadata": {},
     "output_type": "execute_result"
    }
   ],
   "source": [
    "apple_prices"
   ]
  },
  {
   "cell_type": "code",
   "execution_count": 28,
   "metadata": {},
   "outputs": [
    {
     "data": {
      "text/plain": [
       "[<matplotlib.lines.Line2D at 0x1c915fd8240>]"
      ]
     },
     "execution_count": 28,
     "metadata": {},
     "output_type": "execute_result"
    },
    {
     "data": {
      "image/png": "[encoded data removed]",
      "text/plain": [
       "<Figure size 432x288 with 1 Axes>"
      ]
     },
     "metadata": {},
     "output_type": "display_data"
    }
   ],
   "source": [
    "plt.plot(apple_prices)"
   ]
  },
  {
   "cell_type": "code",
   "execution_count": 33,
   "metadata": {},
   "outputs": [],
   "source": [
    "#normalize the dataset\n",
    "scaler = MinMaxScaler(feature_range=(0, 1))\n",
    "apple_prices = scaler.fit_transform(apple_prices)"
   ]
  },
  {
   "cell_type": "code",
   "execution_count": 34,
   "metadata": {},
   "outputs": [
    {
     "data": {
      "text/plain": [
       "[<matplotlib.lines.Line2D at 0x1c91bd3bef0>]"
      ]
     },
     "execution_count": 34,
     "metadata": {},
     "output_type": "execute_result"
    },
    {
     "data": {
      "image/png": "[encoded data removed]",
      "text/plain": [
       "<Figure size 432x288 with 1 Axes>"
      ]
     },
     "metadata": {},
     "output_type": "display_data"
    }
   ],
   "source": [
    "plt.plot(apple_prices)"
   ]
  },
  {
   "cell_type": "code",
   "execution_count": 36,
   "metadata": {},
   "outputs": [],
   "source": [
    "train, test = train_test_split(apple_prices, test_size = 0.33, shuffle = False)"
   ]
  },
  {
   "cell_type": "code",
   "execution_count": 39,
   "metadata": {},
   "outputs": [
    {
     "name": "stdout",
     "output_type": "stream",
     "text": [
      "1180 582\n"
     ]
    }
   ],
   "source": [
    "print(len(train), len(test))"
   ]
  },
  {
   "cell_type": "code",
   "execution_count": 59,
   "metadata": {},
   "outputs": [],
   "source": [
    "# convert an array of values into a time series dataset \n",
    "# in form \n",
    "#                     X                     Y\n",
    "# t-look_back+1, t-look_back+2, ..., t     t+1\n",
    "\n",
    "def create_dataset(df, look_back):\n",
    "    \n",
    "    dfX, label = [], []\n",
    "    for i in range(len(df) - look_back-1):\n",
    "        a = df[i: (i+look_back), 0]\n",
    "        dfX.append(a)\n",
    "        label.append(df[i + look_back, 0])\n",
    "    return np.array(dfX), np.array(label)\n"
   ]
  },
  {
   "cell_type": "code",
   "execution_count": 60,
   "metadata": {},
   "outputs": [],
   "source": [
    "# convert Apple's stock price data into time series dataset\n",
    "trainX, trainY = create_dataset(train, 7)\n",
    "testX, testY = create_dataset(test, 7)"
   ]
  },
  {
   "cell_type": "code",
   "execution_count": 69,
   "metadata": {},
   "outputs": [],
   "source": [
    "# Train example \n",
    "#First_row :  t0  t1  t2 t3 t4 t5 t6 t7      label = t8\n",
    "#Second_row:  t1  t2  t3 t4 t5 t6 t7 t8      label = t9\n",
    "#Third_row:   t2  t3  t4 t5 t6 t7 t8 t9      label = t10"
   ]
  },
  {
   "cell_type": "code",
   "execution_count": 71,
   "metadata": {},
   "outputs": [
    {
     "data": {
      "text/plain": [
       "(1172, 7)"
      ]
     },
     "execution_count": 71,
     "metadata": {},
     "output_type": "execute_result"
    }
   ],
   "source": [
    "trainX.shape"
   ]
  },
  {
   "cell_type": "code",
   "execution_count": 78,
   "metadata": {},
   "outputs": [],
   "source": [
    "# reshape input of the LSTM to be format [samples, time steps, features]\n",
    "trainX = np.reshape(trainX, (trainX.shape[0], trainX.shape[1], 1))\n",
    "testX = np.reshape(testX, (testX.shape[0], testX.shape[1], 1) )"
   ]
  },
  {
   "cell_type": "code",
   "execution_count": 74,
   "metadata": {},
   "outputs": [
    {
     "data": {
      "text/plain": [
       "(1172, 7, 1)"
      ]
     },
     "execution_count": 74,
     "metadata": {},
     "output_type": "execute_result"
    }
   ],
   "source": [
    "trainX.shape"
   ]
  },
  {
   "cell_type": "code",
   "execution_count": 79,
   "metadata": {},
   "outputs": [
    {
     "data": {
      "text/plain": [
       "(574, 7, 1)"
      ]
     },
     "execution_count": 79,
     "metadata": {},
     "output_type": "execute_result"
    }
   ],
   "source": [
    "testX.shape"
   ]
  },
  {
   "cell_type": "code",
   "execution_count": 106,
   "metadata": {},
   "outputs": [
    {
     "name": "stdout",
     "output_type": "stream",
     "text": [
      "Epoch 1/100\n",
      "1172/1172 [==============================] - 1s 817us/step - loss: 0.0036\n",
      "Epoch 2/100\n",
      "1172/1172 [==============================] - 0s 151us/step - loss: 3.8740e-04\n",
      "Epoch 3/100\n",
      "1172/1172 [==============================] - 0s 153us/step - loss: 2.8476e-04\n",
      "Epoch 4/100\n",
      "1172/1172 [==============================] - 0s 149us/step - loss: 2.5307e-04\n",
      "Epoch 5/100\n",
      "1172/1172 [==============================] - 0s 148us/step - loss: 2.4052e-04\n",
      "Epoch 6/100\n",
      "1172/1172 [==============================] - 0s 151us/step - loss: 2.3430e-04\n",
      "Epoch 7/100\n",
      "1172/1172 [==============================] - 0s 152us/step - loss: 2.3062e-04\n",
      "Epoch 8/100\n",
      "1172/1172 [==============================] - 0s 154us/step - loss: 2.2855e-04\n",
      "Epoch 9/100\n",
      "1172/1172 [==============================] - 0s 174us/step - loss: 2.2771e-04 0s - loss: 2.1907e-\n",
      "Epoch 10/100\n",
      "1172/1172 [==============================] - 0s 155us/step - loss: 2.2397e-04\n",
      "Epoch 11/100\n",
      "1172/1172 [==============================] - 0s 141us/step - loss: 2.2261e-04\n",
      "Epoch 12/100\n",
      "1172/1172 [==============================] - 0s 132us/step - loss: 2.1832e-04\n",
      "Epoch 13/100\n",
      "1172/1172 [==============================] - 0s 142us/step - loss: 2.1623e-04\n",
      "Epoch 14/100\n",
      "1172/1172 [==============================] - 0s 155us/step - loss: 2.1492e-04\n",
      "Epoch 15/100\n",
      "1172/1172 [==============================] - 0s 152us/step - loss: 2.1431e-04\n",
      "Epoch 16/100\n",
      "1172/1172 [==============================] - 0s 145us/step - loss: 2.1261e-04\n",
      "Epoch 17/100\n",
      "1172/1172 [==============================] - 0s 152us/step - loss: 2.0975e-04\n",
      "Epoch 18/100\n",
      "1172/1172 [==============================] - 0s 150us/step - loss: 2.0769e-04\n",
      "Epoch 19/100\n",
      "1172/1172 [==============================] - 0s 135us/step - loss: 2.0774e-04\n",
      "Epoch 20/100\n",
      "1172/1172 [==============================] - 0s 148us/step - loss: 2.0610e-04\n",
      "Epoch 21/100\n",
      "1172/1172 [==============================] - 0s 155us/step - loss: 2.0301e-04\n",
      "Epoch 22/100\n",
      "1172/1172 [==============================] - 0s 156us/step - loss: 2.0190e-04\n",
      "Epoch 23/100\n",
      "1172/1172 [==============================] - 0s 157us/step - loss: 1.9954e-04\n",
      "Epoch 24/100\n",
      "1172/1172 [==============================] - 0s 157us/step - loss: 2.0172e-04\n",
      "Epoch 25/100\n",
      "1172/1172 [==============================] - 0s 159us/step - loss: 1.9762e-04\n",
      "Epoch 26/100\n",
      "1172/1172 [==============================] - 0s 155us/step - loss: 1.9546e-04\n",
      "Epoch 27/100\n",
      "1172/1172 [==============================] - 0s 161us/step - loss: 1.9490e-04\n",
      "Epoch 28/100\n",
      "1172/1172 [==============================] - 0s 156us/step - loss: 1.9618e-04\n",
      "Epoch 29/100\n",
      "1172/1172 [==============================] - 0s 153us/step - loss: 1.9364e-04\n",
      "Epoch 30/100\n",
      "1172/1172 [==============================] - 0s 157us/step - loss: 1.9060e-04\n",
      "Epoch 31/100\n",
      "1172/1172 [==============================] - 0s 154us/step - loss: 1.8992e-04\n",
      "Epoch 32/100\n",
      "1172/1172 [==============================] - 0s 158us/step - loss: 1.8958e-04\n",
      "Epoch 33/100\n",
      "1172/1172 [==============================] - 0s 153us/step - loss: 1.8802e-04\n",
      "Epoch 34/100\n",
      "1172/1172 [==============================] - 0s 155us/step - loss: 1.8839e-04\n",
      "Epoch 35/100\n",
      "1172/1172 [==============================] - 0s 157us/step - loss: 1.8667e-04\n",
      "Epoch 36/100\n",
      "1172/1172 [==============================] - 0s 149us/step - loss: 1.8732e-04\n",
      "Epoch 37/100\n",
      "1172/1172 [==============================] - 0s 145us/step - loss: 1.8587e-04\n",
      "Epoch 38/100\n",
      "1172/1172 [==============================] - 0s 137us/step - loss: 1.8280e-04\n",
      "Epoch 39/100\n",
      "1172/1172 [==============================] - 0s 133us/step - loss: 1.8828e-04\n",
      "Epoch 40/100\n",
      "1172/1172 [==============================] - 0s 144us/step - loss: 1.8539e-04\n",
      "Epoch 41/100\n",
      "1172/1172 [==============================] - 0s 142us/step - loss: 1.8653e-04\n",
      "Epoch 42/100\n",
      "1172/1172 [==============================] - 0s 150us/step - loss: 1.8171e-04\n",
      "Epoch 43/100\n",
      "1172/1172 [==============================] - 0s 151us/step - loss: 1.8246e-04\n",
      "Epoch 44/100\n",
      "1172/1172 [==============================] - 0s 171us/step - loss: 1.8102e-04 0s - loss: 1.7284e-0\n",
      "Epoch 45/100\n",
      "1172/1172 [==============================] - 0s 144us/step - loss: 1.8404e-04\n",
      "Epoch 46/100\n",
      "1172/1172 [==============================] - 0s 151us/step - loss: 1.8364e-04\n",
      "Epoch 47/100\n",
      "1172/1172 [==============================] - 0s 150us/step - loss: 1.7887e-04\n",
      "Epoch 48/100\n",
      "1172/1172 [==============================] - 0s 155us/step - loss: 1.7731e-04\n",
      "Epoch 49/100\n",
      "1172/1172 [==============================] - 0s 159us/step - loss: 1.7818e-04\n",
      "Epoch 50/100\n",
      "1172/1172 [==============================] - 0s 146us/step - loss: 1.7718e-04\n",
      "Epoch 51/100\n",
      "1172/1172 [==============================] - 0s 147us/step - loss: 1.8361e-04\n",
      "Epoch 52/100\n",
      "1172/1172 [==============================] - 0s 154us/step - loss: 1.7748e-04\n",
      "Epoch 53/100\n",
      "1172/1172 [==============================] - 0s 142us/step - loss: 1.7896e-04\n",
      "Epoch 54/100\n",
      "1172/1172 [==============================] - 0s 134us/step - loss: 1.8039e-04\n",
      "Epoch 55/100\n",
      "1172/1172 [==============================] - 0s 143us/step - loss: 1.7452e-04\n",
      "Epoch 56/100\n",
      "1172/1172 [==============================] - 0s 130us/step - loss: 1.7291e-04\n",
      "Epoch 57/100\n",
      "1172/1172 [==============================] - 0s 150us/step - loss: 1.7315e-04\n",
      "Epoch 58/100\n",
      "1172/1172 [==============================] - 0s 129us/step - loss: 1.7222e-04\n",
      "Epoch 59/100\n",
      "1172/1172 [==============================] - 0s 154us/step - loss: 1.7305e-04\n",
      "Epoch 60/100\n",
      "1172/1172 [==============================] - 0s 151us/step - loss: 1.7214e-04\n",
      "Epoch 61/100\n",
      "1172/1172 [==============================] - 0s 142us/step - loss: 1.6967e-04\n",
      "Epoch 62/100\n",
      "1172/1172 [==============================] - 0s 134us/step - loss: 1.7264e-04\n",
      "Epoch 63/100\n",
      "1172/1172 [==============================] - 0s 151us/step - loss: 1.6988e-04\n",
      "Epoch 64/100\n",
      "1172/1172 [==============================] - 0s 141us/step - loss: 1.7300e-04\n",
      "Epoch 65/100\n",
      "1172/1172 [==============================] - 0s 139us/step - loss: 1.7467e-04\n",
      "Epoch 66/100\n",
      "1172/1172 [==============================] - 0s 143us/step - loss: 1.7016e-04\n",
      "Epoch 67/100\n",
      "1172/1172 [==============================] - 0s 142us/step - loss: 1.6964e-04\n",
      "Epoch 68/100\n",
      "1172/1172 [==============================] - 0s 140us/step - loss: 1.6947e-04\n",
      "Epoch 69/100\n",
      "1172/1172 [==============================] - 0s 140us/step - loss: 1.6596e-04\n",
      "Epoch 70/100\n",
      "1172/1172 [==============================] - 0s 148us/step - loss: 1.6436e-04\n",
      "Epoch 71/100\n",
      "1172/1172 [==============================] - 0s 145us/step - loss: 1.6444e-04\n",
      "Epoch 72/100\n",
      "1172/1172 [==============================] - 0s 132us/step - loss: 1.6882e-04\n",
      "Epoch 73/100\n",
      "1172/1172 [==============================] - 0s 156us/step - loss: 1.6352e-04\n",
      "Epoch 74/100\n",
      "1172/1172 [==============================] - 0s 159us/step - loss: 1.6232e-04\n",
      "Epoch 75/100\n",
      "1172/1172 [==============================] - 0s 141us/step - loss: 1.6478e-04\n",
      "Epoch 76/100\n",
      "1172/1172 [==============================] - 0s 138us/step - loss: 1.6052e-04\n",
      "Epoch 77/100\n",
      "1172/1172 [==============================] - 0s 156us/step - loss: 1.6271e-04\n",
      "Epoch 78/100\n",
      "1172/1172 [==============================] - 0s 159us/step - loss: 1.5902e-04\n",
      "Epoch 79/100\n",
      "1172/1172 [==============================] - 0s 137us/step - loss: 1.5843e-04\n",
      "Epoch 80/100\n",
      "1172/1172 [==============================] - 0s 151us/step - loss: 1.6354e-04\n",
      "Epoch 81/100\n",
      "1172/1172 [==============================] - 0s 148us/step - loss: 1.6778e-04\n",
      "Epoch 82/100\n",
      "1172/1172 [==============================] - 0s 153us/step - loss: 1.5753e-04\n",
      "Epoch 83/100\n",
      "1172/1172 [==============================] - 0s 148us/step - loss: 1.5556e-04\n",
      "Epoch 84/100\n",
      "1172/1172 [==============================] - 0s 148us/step - loss: 1.5639e-04\n",
      "Epoch 85/100\n",
      "1172/1172 [==============================] - 0s 150us/step - loss: 1.5425e-04\n",
      "Epoch 86/100\n",
      "1172/1172 [==============================] - 0s 144us/step - loss: 1.6069e-04\n",
      "Epoch 87/100\n",
      "1172/1172 [==============================] - 0s 153us/step - loss: 1.5558e-04\n",
      "Epoch 88/100\n",
      "1172/1172 [==============================] - 0s 155us/step - loss: 1.5626e-04\n",
      "Epoch 89/100\n",
      "1172/1172 [==============================] - 0s 162us/step - loss: 1.5334e-04\n",
      "Epoch 90/100\n",
      "1172/1172 [==============================] - 0s 148us/step - loss: 1.5506e-04\n",
      "Epoch 91/100\n",
      "1172/1172 [==============================] - 0s 143us/step - loss: 1.5709e-04\n",
      "Epoch 92/100\n",
      "1172/1172 [==============================] - 0s 139us/step - loss: 1.5714e-04\n",
      "Epoch 93/100\n",
      "1172/1172 [==============================] - 0s 150us/step - loss: 1.5729e-04\n",
      "Epoch 94/100\n",
      "1172/1172 [==============================] - 0s 143us/step - loss: 1.5289e-04\n",
      "Epoch 95/100\n",
      "1172/1172 [==============================] - 0s 141us/step - loss: 1.5532e-04\n",
      "Epoch 96/100\n",
      "1172/1172 [==============================] - 0s 132us/step - loss: 1.6299e-04\n",
      "Epoch 97/100\n",
      "1172/1172 [==============================] - 0s 159us/step - loss: 1.5436e-04\n",
      "Epoch 98/100\n",
      "1172/1172 [==============================] - 0s 161us/step - loss: 1.5542e-04\n",
      "Epoch 99/100\n",
      "1172/1172 [==============================] - 0s 145us/step - loss: 1.5128e-04\n",
      "Epoch 100/100\n",
      "1172/1172 [==============================] - 0s 141us/step - loss: 1.5039e-04\n"
     ]
    },
    {
     "data": {
      "text/plain": [
       "<keras.callbacks.History at 0x1c93a6dec50>"
      ]
     },
     "execution_count": 106,
     "metadata": {},
     "output_type": "execute_result"
    }
   ],
   "source": [
    "#define EarlyStopping\n",
    "\n",
    "early_stop = EarlyStopping(monitor='loss', patience=2, verbose=1)\n",
    "\n",
    "\n",
    "# create and fit the LSTM network\n",
    "model = Sequential()\n",
    "model.add(LSTM(4, input_shape=(7, 1), activation='relu', kernel_initializer='lecun_uniform', return_sequences=False))\n",
    "model.add(Dense(1))\n",
    "model.compile(loss='mse', optimizer='adam')\n",
    "model.fit(trainX, trainY, epochs=100, batch_size=32) #callbacks=[early_stop]"
   ]
  },
  {
   "cell_type": "markdown",
   "metadata": {},
   "source": [
    "keras.evaluate() is for evaluating your trained model. Its output is accuracy or loss, not prediction to your input data.\n",
    "\n",
    "keras.predict() actually predicts, and its output is target value, predicted from your input data.\n"
   ]
  },
  {
   "cell_type": "code",
   "execution_count": null,
   "metadata": {},
   "outputs": [],
   "source": [
    "#make predicitons \n",
    "trainPredict = model.predict(trainX)\n",
    "testPredict = model.predict(testX)\n"
   ]
  },
  {
   "cell_type": "code",
   "execution_count": 107,
   "metadata": {},
   "outputs": [
    {
     "name": "stdout",
     "output_type": "stream",
     "text": [
      "The R2 score on the Train set is= \t0.995\n",
      "The R2 score on the Test set is= \t0.850\n",
      "574/574 [==============================] - 1s 1ms/step\n",
      "LSTM: 0.001493\n"
     ]
    }
   ],
   "source": [
    "#calculate r2 score\n",
    "\n",
    "print(\"The R2 score on the Train set is= \\t{:0.3f}\".format(r2_score(trainY, trainPredict)))\n",
    "print(\"The R2 score on the Test set is= \\t{:0.3f}\".format(r2_score(testY, testPredict)))\n"
   ]
  },
  {
   "cell_type": "code",
   "execution_count": 128,
   "metadata": {},
   "outputs": [],
   "source": [
    "#calculate root mean squared error\n",
    "\n",
    "trainScore = math.sqrt(mean_squared_error(trainY, trainPredict[:,0]))\n",
    "testScore = math.sqrt(mean_squared_error(testY, testPredict[:,0]))"
   ]
  },
  {
   "cell_type": "code",
   "execution_count": 129,
   "metadata": {},
   "outputs": [
    {
     "name": "stdout",
     "output_type": "stream",
     "text": [
      "Train Score: 0.012481\n",
      "Test Score: 0.038635\n"
     ]
    }
   ],
   "source": [
    "print('Train Score: {:2f}'.format(trainScore))\n",
    "print('Test Score: {:2f}'.format(testScore))"
   ]
  },
  {
   "cell_type": "code",
   "execution_count": 130,
   "metadata": {},
   "outputs": [
    {
     "name": "stdout",
     "output_type": "stream",
     "text": [
      "574/574 [==============================] - 1s 1ms/step\n",
      "LSTM: 0.001493\n"
     ]
    }
   ],
   "source": [
    "#Evaluate the model\n",
    "lstm_test_loss = model.evaluate(testX, testY, batch_size=1)\n",
    "print('LSTM: %f'%lstm_test_loss)"
   ]
  },
  {
   "cell_type": "code",
   "execution_count": 135,
   "metadata": {},
   "outputs": [
    {
     "data": {
      "text/plain": [
       "[<matplotlib.lines.Line2D at 0x1c93d054630>]"
      ]
     },
     "execution_count": 135,
     "metadata": {},
     "output_type": "execute_result"
    },
    {
     "data": {
      "image/png": "[encoded data removed]",
      "text/plain": [
       "<Figure size 432x288 with 1 Axes>"
      ]
     },
     "metadata": {},
     "output_type": "display_data"
    }
   ],
   "source": [
    "plt.plot(testY)\n",
    "plt.plot(testPredict)"
   ]
  },
  {
   "cell_type": "code",
   "execution_count": null,
   "metadata": {},
   "outputs": [],
   "source": []
  }
 ],
 "metadata": {
  "kernelspec": {
   "display_name": "Python 3",
   "language": "python",
   "name": "python3"
  },
  "language_info": {
   "codemirror_mode": {
    "name": "ipython",
    "version": 3
   },
   "file_extension": ".py",
   "mimetype": "text/x-python",
   "name": "python",
   "nbconvert_exporter": "python",
   "pygments_lexer": "ipython3",
   "version": "3.5.0"
  }
 },
 "nbformat": 4,
 "nbformat_minor": 2
}
